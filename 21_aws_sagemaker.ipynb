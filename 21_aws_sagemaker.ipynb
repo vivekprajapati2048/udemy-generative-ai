{
 "cells": [
  {
   "cell_type": "code",
   "execution_count": 1,
   "id": "717c78a2-0497-4cb4-9131-8b260bf4026f",
   "metadata": {},
   "outputs": [
    {
     "name": "stdout",
     "output_type": "stream",
     "text": [
      "Requirement already satisfied: sagemaker in /Users/vivekprajapati/Projects/zeros-and-ones/udemy-generative-ai/venv/lib/python3.12/site-packages (2.245.0)\n",
      "Requirement already satisfied: attrs<24,>=23.1.0 in /Users/vivekprajapati/Projects/zeros-and-ones/udemy-generative-ai/venv/lib/python3.12/site-packages (from sagemaker) (23.2.0)\n",
      "Requirement already satisfied: boto3<2.0,>=1.35.75 in /Users/vivekprajapati/Projects/zeros-and-ones/udemy-generative-ai/venv/lib/python3.12/site-packages (from sagemaker) (1.38.29)\n",
      "Requirement already satisfied: cloudpickle>=2.2.1 in /Users/vivekprajapati/Projects/zeros-and-ones/udemy-generative-ai/venv/lib/python3.12/site-packages (from sagemaker) (3.1.1)\n",
      "Requirement already satisfied: docker in /Users/vivekprajapati/Projects/zeros-and-ones/udemy-generative-ai/venv/lib/python3.12/site-packages (from sagemaker) (7.1.0)\n",
      "Requirement already satisfied: fastapi in /Users/vivekprajapati/Projects/zeros-and-ones/udemy-generative-ai/venv/lib/python3.12/site-packages (from sagemaker) (0.115.9)\n",
      "Requirement already satisfied: google-pasta in /Users/vivekprajapati/Projects/zeros-and-ones/udemy-generative-ai/venv/lib/python3.12/site-packages (from sagemaker) (0.2.0)\n",
      "Requirement already satisfied: graphene<4,>=3 in /Users/vivekprajapati/Projects/zeros-and-ones/udemy-generative-ai/venv/lib/python3.12/site-packages (from sagemaker) (3.4.3)\n",
      "Requirement already satisfied: importlib-metadata<7.0,>=1.4.0 in /Users/vivekprajapati/Projects/zeros-and-ones/udemy-generative-ai/venv/lib/python3.12/site-packages (from sagemaker) (6.11.0)\n",
      "Requirement already satisfied: jsonschema in /Users/vivekprajapati/Projects/zeros-and-ones/udemy-generative-ai/venv/lib/python3.12/site-packages (from sagemaker) (4.24.0)\n",
      "Requirement already satisfied: numpy==1.26.4 in /Users/vivekprajapati/Projects/zeros-and-ones/udemy-generative-ai/venv/lib/python3.12/site-packages (from sagemaker) (1.26.4)\n",
      "Requirement already satisfied: omegaconf<3,>=2.2 in /Users/vivekprajapati/Projects/zeros-and-ones/udemy-generative-ai/venv/lib/python3.12/site-packages (from sagemaker) (2.3.0)\n",
      "Requirement already satisfied: packaging<25,>=23.0 in /Users/vivekprajapati/Projects/zeros-and-ones/udemy-generative-ai/venv/lib/python3.12/site-packages (from sagemaker) (24.2)\n",
      "Requirement already satisfied: pandas in /Users/vivekprajapati/Projects/zeros-and-ones/udemy-generative-ai/venv/lib/python3.12/site-packages (from sagemaker) (2.2.3)\n",
      "Requirement already satisfied: pathos in /Users/vivekprajapati/Projects/zeros-and-ones/udemy-generative-ai/venv/lib/python3.12/site-packages (from sagemaker) (0.3.4)\n",
      "Requirement already satisfied: platformdirs in /Users/vivekprajapati/Projects/zeros-and-ones/udemy-generative-ai/venv/lib/python3.12/site-packages (from sagemaker) (4.3.8)\n",
      "Requirement already satisfied: protobuf<6.0,>=3.12 in /Users/vivekprajapati/Projects/zeros-and-ones/udemy-generative-ai/venv/lib/python3.12/site-packages (from sagemaker) (5.29.5)\n",
      "Requirement already satisfied: psutil in /Users/vivekprajapati/Projects/zeros-and-ones/udemy-generative-ai/venv/lib/python3.12/site-packages (from sagemaker) (7.0.0)\n",
      "Requirement already satisfied: pyyaml>=6.0.1 in /Users/vivekprajapati/Projects/zeros-and-ones/udemy-generative-ai/venv/lib/python3.12/site-packages (from sagemaker) (6.0.2)\n",
      "Requirement already satisfied: requests in /Users/vivekprajapati/Projects/zeros-and-ones/udemy-generative-ai/venv/lib/python3.12/site-packages (from sagemaker) (2.32.3)\n",
      "Requirement already satisfied: sagemaker-core<2.0.0,>=1.0.17 in /Users/vivekprajapati/Projects/zeros-and-ones/udemy-generative-ai/venv/lib/python3.12/site-packages (from sagemaker) (1.0.36)\n",
      "Requirement already satisfied: schema in /Users/vivekprajapati/Projects/zeros-and-ones/udemy-generative-ai/venv/lib/python3.12/site-packages (from sagemaker) (0.7.7)\n",
      "Requirement already satisfied: smdebug-rulesconfig==1.0.1 in /Users/vivekprajapati/Projects/zeros-and-ones/udemy-generative-ai/venv/lib/python3.12/site-packages (from sagemaker) (1.0.1)\n",
      "Requirement already satisfied: tblib<4,>=1.7.0 in /Users/vivekprajapati/Projects/zeros-and-ones/udemy-generative-ai/venv/lib/python3.12/site-packages (from sagemaker) (3.1.0)\n",
      "Requirement already satisfied: tqdm in /Users/vivekprajapati/Projects/zeros-and-ones/udemy-generative-ai/venv/lib/python3.12/site-packages (from sagemaker) (4.67.1)\n",
      "Requirement already satisfied: urllib3<3.0.0,>=1.26.8 in /Users/vivekprajapati/Projects/zeros-and-ones/udemy-generative-ai/venv/lib/python3.12/site-packages (from sagemaker) (2.4.0)\n",
      "Requirement already satisfied: uvicorn in /Users/vivekprajapati/Projects/zeros-and-ones/udemy-generative-ai/venv/lib/python3.12/site-packages (from sagemaker) (0.34.2)\n",
      "Requirement already satisfied: botocore<1.39.0,>=1.38.29 in /Users/vivekprajapati/Projects/zeros-and-ones/udemy-generative-ai/venv/lib/python3.12/site-packages (from boto3<2.0,>=1.35.75->sagemaker) (1.38.29)\n",
      "Requirement already satisfied: jmespath<2.0.0,>=0.7.1 in /Users/vivekprajapati/Projects/zeros-and-ones/udemy-generative-ai/venv/lib/python3.12/site-packages (from boto3<2.0,>=1.35.75->sagemaker) (1.0.1)\n",
      "Requirement already satisfied: s3transfer<0.14.0,>=0.13.0 in /Users/vivekprajapati/Projects/zeros-and-ones/udemy-generative-ai/venv/lib/python3.12/site-packages (from boto3<2.0,>=1.35.75->sagemaker) (0.13.0)\n",
      "Requirement already satisfied: graphql-core<3.3,>=3.1 in /Users/vivekprajapati/Projects/zeros-and-ones/udemy-generative-ai/venv/lib/python3.12/site-packages (from graphene<4,>=3->sagemaker) (3.2.6)\n",
      "Requirement already satisfied: graphql-relay<3.3,>=3.1 in /Users/vivekprajapati/Projects/zeros-and-ones/udemy-generative-ai/venv/lib/python3.12/site-packages (from graphene<4,>=3->sagemaker) (3.2.0)\n",
      "Requirement already satisfied: python-dateutil<3,>=2.7.0 in /Users/vivekprajapati/Projects/zeros-and-ones/udemy-generative-ai/venv/lib/python3.12/site-packages (from graphene<4,>=3->sagemaker) (2.9.0.post0)\n",
      "Requirement already satisfied: typing-extensions<5,>=4.7.1 in /Users/vivekprajapati/Projects/zeros-and-ones/udemy-generative-ai/venv/lib/python3.12/site-packages (from graphene<4,>=3->sagemaker) (4.13.2)\n",
      "Requirement already satisfied: zipp>=0.5 in /Users/vivekprajapati/Projects/zeros-and-ones/udemy-generative-ai/venv/lib/python3.12/site-packages (from importlib-metadata<7.0,>=1.4.0->sagemaker) (3.22.0)\n",
      "Requirement already satisfied: antlr4-python3-runtime==4.9.* in /Users/vivekprajapati/Projects/zeros-and-ones/udemy-generative-ai/venv/lib/python3.12/site-packages (from omegaconf<3,>=2.2->sagemaker) (4.9.3)\n",
      "Requirement already satisfied: pydantic<3.0.0,>=2.0.0 in /Users/vivekprajapati/Projects/zeros-and-ones/udemy-generative-ai/venv/lib/python3.12/site-packages (from sagemaker-core<2.0.0,>=1.0.17->sagemaker) (2.11.5)\n",
      "Requirement already satisfied: rich<15.0.0,>=14.0.0 in /Users/vivekprajapati/Projects/zeros-and-ones/udemy-generative-ai/venv/lib/python3.12/site-packages (from sagemaker-core<2.0.0,>=1.0.17->sagemaker) (14.0.0)\n",
      "Requirement already satisfied: mock<5.0,>4.0 in /Users/vivekprajapati/Projects/zeros-and-ones/udemy-generative-ai/venv/lib/python3.12/site-packages (from sagemaker-core<2.0.0,>=1.0.17->sagemaker) (4.0.3)\n",
      "Requirement already satisfied: jsonschema-specifications>=2023.03.6 in /Users/vivekprajapati/Projects/zeros-and-ones/udemy-generative-ai/venv/lib/python3.12/site-packages (from jsonschema->sagemaker) (2025.4.1)\n",
      "Requirement already satisfied: referencing>=0.28.4 in /Users/vivekprajapati/Projects/zeros-and-ones/udemy-generative-ai/venv/lib/python3.12/site-packages (from jsonschema->sagemaker) (0.36.2)\n",
      "Requirement already satisfied: rpds-py>=0.7.1 in /Users/vivekprajapati/Projects/zeros-and-ones/udemy-generative-ai/venv/lib/python3.12/site-packages (from jsonschema->sagemaker) (0.25.1)\n",
      "Requirement already satisfied: charset-normalizer<4,>=2 in /Users/vivekprajapati/Projects/zeros-and-ones/udemy-generative-ai/venv/lib/python3.12/site-packages (from requests->sagemaker) (3.4.2)\n",
      "Requirement already satisfied: idna<4,>=2.5 in /Users/vivekprajapati/Projects/zeros-and-ones/udemy-generative-ai/venv/lib/python3.12/site-packages (from requests->sagemaker) (3.10)\n",
      "Requirement already satisfied: certifi>=2017.4.17 in /Users/vivekprajapati/Projects/zeros-and-ones/udemy-generative-ai/venv/lib/python3.12/site-packages (from requests->sagemaker) (2025.4.26)\n",
      "Requirement already satisfied: starlette<0.46.0,>=0.40.0 in /Users/vivekprajapati/Projects/zeros-and-ones/udemy-generative-ai/venv/lib/python3.12/site-packages (from fastapi->sagemaker) (0.45.3)\n",
      "Requirement already satisfied: six in /Users/vivekprajapati/Projects/zeros-and-ones/udemy-generative-ai/venv/lib/python3.12/site-packages (from google-pasta->sagemaker) (1.17.0)\n",
      "Requirement already satisfied: pytz>=2020.1 in /Users/vivekprajapati/Projects/zeros-and-ones/udemy-generative-ai/venv/lib/python3.12/site-packages (from pandas->sagemaker) (2025.2)\n",
      "Requirement already satisfied: tzdata>=2022.7 in /Users/vivekprajapati/Projects/zeros-and-ones/udemy-generative-ai/venv/lib/python3.12/site-packages (from pandas->sagemaker) (2025.2)\n",
      "Requirement already satisfied: ppft>=1.7.7 in /Users/vivekprajapati/Projects/zeros-and-ones/udemy-generative-ai/venv/lib/python3.12/site-packages (from pathos->sagemaker) (1.7.7)\n",
      "Requirement already satisfied: dill>=0.4.0 in /Users/vivekprajapati/Projects/zeros-and-ones/udemy-generative-ai/venv/lib/python3.12/site-packages (from pathos->sagemaker) (0.4.0)\n",
      "Requirement already satisfied: pox>=0.3.6 in /Users/vivekprajapati/Projects/zeros-and-ones/udemy-generative-ai/venv/lib/python3.12/site-packages (from pathos->sagemaker) (0.3.6)\n",
      "Requirement already satisfied: multiprocess>=0.70.18 in /Users/vivekprajapati/Projects/zeros-and-ones/udemy-generative-ai/venv/lib/python3.12/site-packages (from pathos->sagemaker) (0.70.18)\n",
      "Requirement already satisfied: click>=7.0 in /Users/vivekprajapati/Projects/zeros-and-ones/udemy-generative-ai/venv/lib/python3.12/site-packages (from uvicorn->sagemaker) (8.2.1)\n",
      "Requirement already satisfied: h11>=0.8 in /Users/vivekprajapati/Projects/zeros-and-ones/udemy-generative-ai/venv/lib/python3.12/site-packages (from uvicorn->sagemaker) (0.16.0)\n",
      "Requirement already satisfied: annotated-types>=0.6.0 in /Users/vivekprajapati/Projects/zeros-and-ones/udemy-generative-ai/venv/lib/python3.12/site-packages (from pydantic<3.0.0,>=2.0.0->sagemaker-core<2.0.0,>=1.0.17->sagemaker) (0.7.0)\n",
      "Requirement already satisfied: pydantic-core==2.33.2 in /Users/vivekprajapati/Projects/zeros-and-ones/udemy-generative-ai/venv/lib/python3.12/site-packages (from pydantic<3.0.0,>=2.0.0->sagemaker-core<2.0.0,>=1.0.17->sagemaker) (2.33.2)\n",
      "Requirement already satisfied: typing-inspection>=0.4.0 in /Users/vivekprajapati/Projects/zeros-and-ones/udemy-generative-ai/venv/lib/python3.12/site-packages (from pydantic<3.0.0,>=2.0.0->sagemaker-core<2.0.0,>=1.0.17->sagemaker) (0.4.1)\n",
      "Requirement already satisfied: markdown-it-py>=2.2.0 in /Users/vivekprajapati/Projects/zeros-and-ones/udemy-generative-ai/venv/lib/python3.12/site-packages (from rich<15.0.0,>=14.0.0->sagemaker-core<2.0.0,>=1.0.17->sagemaker) (3.0.0)\n",
      "Requirement already satisfied: pygments<3.0.0,>=2.13.0 in /Users/vivekprajapati/Projects/zeros-and-ones/udemy-generative-ai/venv/lib/python3.12/site-packages (from rich<15.0.0,>=14.0.0->sagemaker-core<2.0.0,>=1.0.17->sagemaker) (2.19.1)\n",
      "Requirement already satisfied: anyio<5,>=3.6.2 in /Users/vivekprajapati/Projects/zeros-and-ones/udemy-generative-ai/venv/lib/python3.12/site-packages (from starlette<0.46.0,>=0.40.0->fastapi->sagemaker) (4.9.0)\n",
      "Requirement already satisfied: sniffio>=1.1 in /Users/vivekprajapati/Projects/zeros-and-ones/udemy-generative-ai/venv/lib/python3.12/site-packages (from anyio<5,>=3.6.2->starlette<0.46.0,>=0.40.0->fastapi->sagemaker) (1.3.1)\n",
      "Requirement already satisfied: mdurl~=0.1 in /Users/vivekprajapati/Projects/zeros-and-ones/udemy-generative-ai/venv/lib/python3.12/site-packages (from markdown-it-py>=2.2.0->rich<15.0.0,>=14.0.0->sagemaker-core<2.0.0,>=1.0.17->sagemaker) (0.1.2)\n",
      "\n",
      "\u001b[1m[\u001b[0m\u001b[34;49mnotice\u001b[0m\u001b[1;39;49m]\u001b[0m\u001b[39;49m A new release of pip is available: \u001b[0m\u001b[31;49m25.0.1\u001b[0m\u001b[39;49m -> \u001b[0m\u001b[32;49m25.1.1\u001b[0m\n",
      "\u001b[1m[\u001b[0m\u001b[34;49mnotice\u001b[0m\u001b[1;39;49m]\u001b[0m\u001b[39;49m To update, run: \u001b[0m\u001b[32;49mpip install --upgrade pip\u001b[0m\n"
     ]
    }
   ],
   "source": [
    "!pip install sagemaker -U"
   ]
  },
  {
   "cell_type": "code",
   "execution_count": null,
   "id": "b4aab52e-0cd6-44b0-9b75-9583ec4c6a83",
   "metadata": {},
   "outputs": [],
   "source": [
    "import sagemaker\n",
    "import boto3\n",
    "\n",
    "sess = sagemaker.Session()\n",
    "\n",
    "# sagemaker session bucket -> used for uploading data, models and logs\n",
    "# sagemaker will automatically create this bucket if it not exists\n",
    "\n",
    "sagemaker_session_bucket = None\n",
    "\n",
    "if sagemaker_session_bucket is None and sess is not None:\n",
    "    # set to default bucket if a bucket name is not given\n",
    "    sagemaker_session_bucket = sess.default_bucket()\n",
    "\n",
    "try:\n",
    "    role = sagemaker.get_execution_role()\n",
    "except ValueError:\n",
    "    iam = boto3.client('iam')\n",
    "    role = iam.get_role(RoleName='sagemaker_execution_role')['Role']['Arn']\n",
    "\n",
    "sess = sagemaker.Session(default_bucket=sagemaker_session_bucket)\n",
    "\n",
    "print(f\"sagemaker role arn: {role}\")\n",
    "print(f\"sagemaker session region: {sess.boto_region_name}\")"
   ]
  },
  {
   "cell_type": "code",
   "execution_count": null,
   "id": "b3d1ee5d-70c5-450a-8046-77569664622b",
   "metadata": {},
   "outputs": [
    {
     "name": "stdout",
     "output_type": "stream",
     "text": [
      "-----!"
     ]
    },
    {
     "data": {
      "text/plain": [
       "{'score': 0.9987204670906067, 'start': 68, 'end': 77, 'answer': 'sagemaker'}"
      ]
     },
     "execution_count": 6,
     "metadata": {},
     "output_type": "execute_result"
    }
   ],
   "source": [
    "from sagemaker.huggingface.model import HuggingFaceModel\n",
    "\n",
    "# Hub model configuration <https://huggingface.co/models>\n",
    "hub = {\n",
    "  'HF_MODEL_ID': 'distilbert-base-uncased-distilled-squad', # model_id from hf.co/models\n",
    "  'HF_TASK': 'question-answering'                           # NLP task you want to use for predictions\n",
    "}\n",
    "\n",
    "# create Hugging Face Model Class\n",
    "huggingface_model = HuggingFaceModel(\n",
    "   env=hub,                                                # configuration for loading model from Hub\n",
    "   role=role,                                              # IAM role with permissions to create an endpoint\n",
    "   transformers_version=\"4.26\",                            # Transformers version used\n",
    "   pytorch_version=\"1.13\",                                 # PyTorch version used\n",
    "   py_version='py39',                                      # Python version used\n",
    ")\n",
    "\n",
    "# deploy model to SageMaker Inference\n",
    "predictor = huggingface_model.deploy(\n",
    "   initial_instance_count=1,\n",
    "   instance_type=\"ml.m5.xlarge\"\n",
    ")\n",
    "\n",
    "# example request: you always need to define \"inputs\"\n",
    "data = {\n",
    "\"inputs\": {\n",
    "\t\"question\": \"What is used for inference?\",\n",
    "\t\"context\": \"My Name is Philipp and I live in Nuremberg. This model is used with sagemaker for inference.\"\n",
    "\t}\n",
    "}\n",
    "\n",
    "# request\n",
    "predictor.predict(data)"
   ]
  },
  {
   "cell_type": "code",
   "execution_count": 9,
   "id": "95228704-378d-42ce-aa3b-d07ae21c8ece",
   "metadata": {},
   "outputs": [
    {
     "data": {
      "text/plain": [
       "{'score': 0.9987204670906067, 'start': 68, 'end': 77, 'answer': 'sagemaker'}"
      ]
     },
     "execution_count": 9,
     "metadata": {},
     "output_type": "execute_result"
    }
   ],
   "source": [
    "predictor.predict(data)"
   ]
  },
  {
   "cell_type": "code",
   "execution_count": 12,
   "id": "9e99c63a-b14f-4017-a16f-d6827876be68",
   "metadata": {},
   "outputs": [],
   "source": [
    "data = {\n",
    "\"inputs\": {\n",
    "\t\"question\": \"What does Krish teach?\",\n",
    "\t\"context\": \"My Name is Krish and  I teach data science.\"\n",
    "\t}\n",
    "}"
   ]
  },
  {
   "cell_type": "code",
   "execution_count": 13,
   "id": "3685f86f-04c3-44eb-9049-66cfd63f913e",
   "metadata": {},
   "outputs": [
    {
     "data": {
      "text/plain": [
       "{'score': 0.9854100942611694, 'start': 30, 'end': 42, 'answer': 'data science'}"
      ]
     },
     "execution_count": 13,
     "metadata": {},
     "output_type": "execute_result"
    }
   ],
   "source": [
    "predictor.predict(data)"
   ]
  },
  {
   "cell_type": "code",
   "execution_count": null,
   "id": "1b3560ab-dd58-4c17-9cc1-2296554dbebd",
   "metadata": {},
   "outputs": [],
   "source": []
  }
 ],
 "metadata": {
  "kernelspec": {
   "display_name": "venv",
   "language": "python",
   "name": "python3"
  },
  "language_info": {
   "codemirror_mode": {
    "name": "ipython",
    "version": 3
   },
   "file_extension": ".py",
   "mimetype": "text/x-python",
   "name": "python",
   "nbconvert_exporter": "python",
   "pygments_lexer": "ipython3",
   "version": "3.12.10"
  }
 },
 "nbformat": 4,
 "nbformat_minor": 5
}
